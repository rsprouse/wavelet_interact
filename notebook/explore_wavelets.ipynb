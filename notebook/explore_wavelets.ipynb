{
 "cells": [
  {
   "cell_type": "markdown",
   "metadata": {},
   "source": [
    "# Create wavelets"
   ]
  },
  {
   "cell_type": "code",
   "execution_count": null,
   "metadata": {},
   "outputs": [],
   "source": [
    "#import yaml\n",
    "\n",
    "from bokeh.layouts import column\n",
    "from bokeh.models import ColumnDataSource, Slider\n",
    "from bokeh.plotting import figure\n",
    "from bokeh.models.widgets import Tabs\n",
    "#from bokeh.themes import Theme\n",
    "from bokeh.io import show, output_notebook\n",
    "\n",
    "#from bokeh.sampledata.sea_surface_temperature import sea_surface_temperature\n",
    "\n",
    "output_notebook()"
   ]
  },
  {
   "cell_type": "code",
   "execution_count": 2,
   "metadata": {},
   "outputs": [],
   "source": [
    "import numpy as np\n",
    "import scipy.signal\n",
    "import scipy.fft"
   ]
  },
  {
   "cell_type": "code",
   "execution_count": 14,
   "metadata": {},
   "outputs": [],
   "source": [
    "def sec2labels(sec, fs, require_odd):\n",
    "    '''Calculate the x labels (in samples, time) to be used in a plot\n",
    "of duration `sec` that goes with a signal sampled at `fs` sample\n",
    "rate. '''\n",
    "    numx = np.int(np.floor(sec * fs))\n",
    "    if require_odd is True and numx % 2 == 0:  # Ensure symmetrical around 0\n",
    "        numx += 1\n",
    "    x = np.arange(numx) - np.int(np.floor(numx / 2))\n",
    "    t = x / fs\n",
    "    return (x, t)\n",
    "\n",
    "def real_sinusoid(freq, time):\n",
    "    '''Calculate sinusoid given freq and a time vector. Return real portion.'''\n",
    "    if np.isscalar(freq):\n",
    "        rs = np.real(np.exp(2*1j*np.pi*freq*time))\n",
    "    else:\n",
    "        rs = np.real(np.exp(2*1j*np.pi*np.expand_dims(freq, axis=-1)*time))\n",
    "    return rs\n",
    "\n",
    "def gaussian(freq, time, num_cycles):\n",
    "    '''Calculate Gaussian window for time vector with width dependent on number of\n",
    "cycles of the wavelet frequency.'''\n",
    "    s = num_cycles / (2*np.pi*freq)\n",
    "    return np.exp(-(time**2) / (2*s**2))\n",
    "\n",
    "def wavelet(freq, time, num_cycles):\n",
    "    '''Calculate a morlet wavelet.'''\n",
    "    return real_sinusoid(freq, time) * gaussian(freq, time, num_cycles)\n",
    "\n",
    "def wavelet_spectrum(cmw, npoints):\n",
    "    '''Calculate the frequency spectrum of a morlet wavelet.'''\n",
    "    cmwX = scipy.fft.rfft(cmw, n=npoints)\n",
    "    return cmwX / cmwX.max()\n",
    "\n",
    "def spectrum(signal, npoints):\n",
    "    '''Calculate the frequency spectrum of a signal.'''\n",
    "    cmwX = scipy.fft.rfft(signal, n=npoints)\n",
    "    return cmwX / cmwX.max()\n",
    "\n",
    "def fwhm2s_and_w(h, freq, fs=None):\n",
    "    '''Convert FWHM param `h` to `morlet2` `s` and `w` parameters.'''\n",
    "    s = h / np.sqrt(8 * np.log(2))\n",
    "    if fs is not None:\n",
    "        s *= fs\n",
    "    w = 2 * np.pi * freq\n",
    "    return (s, w)\n",
    "\n",
    "class Wave():\n",
    "    def __init__(self, freq, sec, fs, color):\n",
    "        self.fs = fs\n",
    "        self.freq = freq\n",
    "        self.sec = sec\n",
    "        self.x, self.t = sec2labels(self.sec, self.fs, require_odd=True)\n",
    "        if np.isscalar(self.freq):\n",
    "            data = real_sinusoid(self.freq, self.t)\n",
    "        else:\n",
    "            data = np.sum(real_sinusoid(self.freq, self.t), axis=0)\n",
    "        self.source = ColumnDataSource(data={'x': self.t, 'y': data})\n",
    "        self.plot = figure(title='Sinusoid', tools=[])\n",
    "        self.plot.toolbar.logo = None\n",
    "        self.plot.line('x', 'y', source=self.source, color=color)\n",
    "        \n",
    "    def fqcallback(self, attr, old, new):\n",
    "        self.freq = new\n",
    "        if np.isscalar(self.freq):\n",
    "            data = real_sinusoid(self.freq, self.t)\n",
    "        else:\n",
    "            data = np.sum(real_sinusoid(self.freq, self.t), axis=0)\n",
    "        self.source.data['y'] = data\n",
    "        \n",
    "class Gauss():\n",
    "    def __init__(self, num_cycles, freq, sec, fs, color):\n",
    "        self.num_cycles = num_cycles\n",
    "        self.freq = freq\n",
    "        self.sec = sec\n",
    "        self.fs = fs\n",
    "        self.x, self.t = sec2labels(self.sec, self.fs, require_odd=True)\n",
    "        self.source = ColumnDataSource(\n",
    "            data={'x': self.t, 'y': gaussian(self.freq, self.t, self.num_cycles)}\n",
    "        )\n",
    "        self.plot = figure(title='Gaussian', tools=[])\n",
    "        self.plot.toolbar.logo = None\n",
    "        self.plot.line('x', 'y', source=self.source, color=color)\n",
    "\n",
    "    def ncallback(self, attr, old, new):\n",
    "        self.num_cycles = new\n",
    "        self.source.data['y'] = gaussian(self.freq, self.t, self.num_cycles)\n",
    "\n",
    "    def fqcallback(self, attr, old, new):\n",
    "        self.freq = new\n",
    "        self.source.data['y'] = gaussian(self.freq, self.t, self.num_cycles)\n",
    "\n",
    "class Wavelet():\n",
    "    def __init__(self, num_cycles, freq, sec, fs, colors):\n",
    "        self.num_cycles = num_cycles\n",
    "        self.freq = freq\n",
    "        self.sec = sec\n",
    "        self.fs = fs\n",
    "        self.x, self.t = sec2labels(self.sec, self.fs, require_odd=True)\n",
    "        self.source = ColumnDataSource(\n",
    "            data={\n",
    "                'x': self.t,\n",
    "                'wvy': real_sinusoid(self.freq, self.t),\n",
    "                'gsy': gaussian(self.freq, self.t, self.num_cycles),\n",
    "                'wvlty': wavelet(self.freq, self.t, self.num_cycles)\n",
    "            }\n",
    "        )\n",
    "        self.plot = figure(title='Sinusoid * Gaussian = wavelet', tools=[])\n",
    "        self.plot.toolbar.logo = None\n",
    "        self.plot.line('x', 'wvy', source=self.source, color=colors[0], alpha=0.5)\n",
    "        self.plot.line('x', 'gsy', source=self.source, color=colors[1], alpha=0.7)\n",
    "        self.plot.line('x', 'wvlty', source=self.source, color=colors[2])\n",
    "\n",
    "    def set_source_data(self):\n",
    "        self.source.data['wvy'] = real_sinusoid(self.freq, self.t)\n",
    "        self.source.data['gsy'] = gaussian(self.freq, self.t, self.num_cycles)\n",
    "        self.source.data['wvlty'] = wavelet(self.freq, self.t, self.num_cycles)\n",
    "\n",
    "    def ncallback(self, attr, old, new):\n",
    "        self.num_cycles = new\n",
    "        self.set_source_data()\n",
    "\n",
    "    def fqcallback(self, attr, old, new):\n",
    "        self.freq = new\n",
    "        self.set_source_data()\n",
    "\n",
    "class SpectrumPlot():\n",
    "    def __init__(self, signal, fs, npoints, freqrng, color):\n",
    "        self.signal = signal\n",
    "        self.fs = fs\n",
    "        self.npoints = npoints\n",
    "        self.freqrng = freqrng\n",
    "        spec = np.abs(spectrum(self.signal, self.npoints))\n",
    "        hz = np.linspace(0, self.fs/2, len(spec))\n",
    "        rng = (hz >= self.freqrng[0]) & (hz <= self.freqrng[1])\n",
    "        self.source = ColumnDataSource(data={'x': hz[rng], 'y': spec[rng]})\n",
    "        self.plot = figure(title='Frequency spectrum', tools=[])\n",
    "        self.plot.toolbar.logo = None\n",
    "        self.plot.line('x', 'y', source=self.source, color=color)\n",
    "\n",
    "    def set_source_data(self):\n",
    "        spec = np.abs(spectrum(self.signal, self.npoints))\n",
    "        hz = np.linspace(0, self.fs/2, len(spec))\n",
    "        rng = (hz >= self.freqrng[0]) & (hz <= self.freqrng[1])\n",
    "        self.source.data = {'x': hz[rng], 'y': spec[rng]}\n",
    "\n",
    "    def scallback(self, attr, old, new):\n",
    "        self.signal = new\n",
    "        self.set_source_data()\n",
    "\n",
    "class WaveletConstructor():\n",
    "    def __init__(self):\n",
    "        freq = 10.0\n",
    "        freqrng = (1.0, 30.0)\n",
    "        freqstep = 1.0\n",
    "        sec = 2.0\n",
    "        num_cycles = 10\n",
    "        cyclesrng = (1, 20)\n",
    "        cyclesstep = 1\n",
    "        fs = 1024\n",
    "        npoints = 1024\n",
    "        specrng=(freqrng[0]-1, freqrng[1]+1)\n",
    "        colors = ['lightblue', 'cornflowerblue', 'midnightblue']\n",
    "        self.wv = Wave(freq=freq, sec=sec, fs=fs, color=colors[0])\n",
    "        self.gs = Gauss(num_cycles=num_cycles, freq=freq, sec=sec, fs=fs, color=colors[1])\n",
    "        self.wvlt = Wavelet(num_cycles=num_cycles, freq=freq, sec=sec, fs=fs, colors=colors)\n",
    "        self.wvltspec = SpectrumPlot(signal=self.wvlt.source.data['wvlty'], fs=fs, npoints=npoints, freqrng=freqrng, color='midnightblue')\n",
    "        self.fqslider = Slider(start=freqrng[0], end=freqrng[1], value=freq, step=freqstep, title='Sinusoid frequency (Hz)')\n",
    "        self.fqslider.on_change('value', self.wv.fqcallback)\n",
    "        self.fqslider.on_change('value', self.gs.fqcallback)\n",
    "        self.fqslider.on_change('value', self.wvlt.fqcallback)\n",
    "        self.nslider = Slider(start=cyclesrng[0], end=cyclesrng[1], value=num_cycles, step=cyclesstep, title='Number of cycles in Gaussian window')\n",
    "        self.nslider.on_change('value', self.gs.ncallback)\n",
    "        self.nslider.on_change('value', self.wvlt.ncallback)\n",
    "        self.wvlt.source.on_change('data', self.update_wvlt_spectrum)\n",
    "        self.wv.plot.plot_height = 125\n",
    "        self.gs.plot.plot_height = 125\n",
    "        self.wvlt.plot.plot_height = 200\n",
    "        self.wvltspec.plot.plot_height = 125\n",
    "        self.column = column(\n",
    "            self.fqslider,  self.nslider, \n",
    "            self.wv.plot, self.gs.plot, self.wvlt.plot, self.wvltspec.plot\n",
    "        )\n",
    "        \n",
    "    def update_wvlt_spectrum(self, attr, old, new):\n",
    "        self.wvltspec.scallback('value', None, new['wvlty'])\n",
    "    \n",
    "def wavelet_app(doc):\n",
    "    wc = WaveletConstructor()\n",
    "    doc.add_root(wc.column)\n",
    "    return doc"
   ]
  },
  {
   "cell_type": "code",
   "execution_count": 15,
   "metadata": {},
   "outputs": [
    {
     "data": {
      "application/vnd.bokehjs_exec.v0+json": "",
      "text/html": [
       "\n",
       "<script id=\"4467\">\n",
       "  var xhr = new XMLHttpRequest()\n",
       "  xhr.responseType = 'blob';\n",
       "  xhr.open('GET', \"http://localhost:56105/autoload.js?bokeh-autoload-element=4467&bokeh-absolute-url=http://localhost:56105&resources=none\", true);\n",
       "  \n",
       "  xhr.onload = function (event) {\n",
       "    var script = document.createElement('script'),\n",
       "    src = URL.createObjectURL(event.target.response);\n",
       "    script.src = src;\n",
       "    document.body.appendChild(script);\n",
       "  };\n",
       "xhr.send();\n",
       "</script>"
      ]
     },
     "metadata": {
      "application/vnd.bokehjs_exec.v0+json": {
       "server_id": "3441136fcac04f8a8cc402c30de9fcc1"
      }
     },
     "output_type": "display_data"
    }
   ],
   "source": [
    "show(wavelet_app)"
   ]
  },
  {
   "cell_type": "code",
   "execution_count": 13,
   "metadata": {},
   "outputs": [
    {
     "name": "stdout",
     "output_type": "stream",
     "text": [
      "0.04246609001440096\n",
      "376.99111843077515\n"
     ]
    },
    {
     "data": {
      "text/plain": [
       "186.82142285763845"
      ]
     },
     "execution_count": 13,
     "metadata": {},
     "output_type": "execute_result"
    }
   ],
   "source": [
    "h = 0.1\n",
    "freq = 60\n",
    "\n",
    "s = h / np.sqrt(8 * np.log(2))\n",
    "w = 2 * np.pi * freq\n",
    "print(s)\n",
    "print(w)\n",
    "w % 2 * np.pi * freq"
   ]
  },
  {
   "cell_type": "code",
   "execution_count": 14,
   "metadata": {},
   "outputs": [
    {
     "data": {
      "text/plain": [
       "0.42466090014400953"
      ]
     },
     "execution_count": 14,
     "metadata": {},
     "output_type": "execute_result"
    }
   ],
   "source": [
    "1 / np.sqrt(8 * np.log(2))"
   ]
  },
  {
   "cell_type": "code",
   "execution_count": null,
   "metadata": {},
   "outputs": [],
   "source": [
    "freq = np.array([10, 15])\n",
    "time = wv.t\n",
    "plot = figure()\n",
    "wvs = np.expand_dims(freq, axis=-1)*time\n",
    "wvs.shape"
   ]
  },
  {
   "cell_type": "code",
   "execution_count": 8,
   "metadata": {},
   "outputs": [],
   "source": [
    "wvlt = Wavelet(num_cycles=3, freq=3, sec=4.0, fs=100, colors=['blue', 'blue', 'midnightblue'])"
   ]
  },
  {
   "cell_type": "code",
   "execution_count": 9,
   "metadata": {},
   "outputs": [
    {
     "data": {
      "text/html": [
       "\n",
       "\n",
       "\n",
       "\n",
       "\n",
       "\n",
       "  <div class=\"bk-root\" id=\"81aa5c3b-132b-4be3-955d-8d5f0fb3bc1a\" data-root-id=\"1053\"></div>\n"
      ]
     },
     "metadata": {},
     "output_type": "display_data"
    },
    {
     "data": {
      "application/javascript": [
       "(function(root) {\n",
       "  function embed_document(root) {\n",
       "    \n",
       "  var docs_json = {\"902bba95-4c7c-4126-9941-e66d5cb0e22a\":{\"roots\":{\"references\":[{\"attributes\":{\"below\":[{\"id\":\"1064\"}],\"center\":[{\"id\":\"1067\"},{\"id\":\"1071\"}],\"left\":[{\"id\":\"1068\"}],\"plot_height\":250,\"renderers\":[{\"id\":\"1089\"}],\"title\":{\"id\":\"1054\"},\"toolbar\":{\"id\":\"1079\"},\"x_range\":{\"id\":\"1056\"},\"x_scale\":{\"id\":\"1060\"},\"y_range\":{\"id\":\"1058\"},\"y_scale\":{\"id\":\"1062\"}},\"id\":\"1053\",\"subtype\":\"Figure\",\"type\":\"Plot\"},{\"attributes\":{\"line_alpha\":0.1,\"line_color\":\"midnightblue\",\"x\":{\"field\":\"x\"},\"y\":{\"field\":\"y\"}},\"id\":\"1088\",\"type\":\"Line\"},{\"attributes\":{\"data\":{\"x\":{\"__ndarray__\":\"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\",\"dtype\":\"float64\",\"shape\":[401]},\"y\":{\"__ndarray__\":\"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\",\"dtype\":\"float64\",\"shape\":[401]}},\"selected\":{\"id\":\"1097\"},\"selection_policy\":{\"id\":\"1098\"}},\"id\":\"1052\",\"type\":\"ColumnDataSource\"},{\"attributes\":{\"bottom_units\":\"screen\",\"fill_alpha\":0.5,\"fill_color\":\"lightgrey\",\"left_units\":\"screen\",\"level\":\"overlay\",\"line_alpha\":1.0,\"line_color\":\"black\",\"line_dash\":[4,4],\"line_width\":2,\"render_mode\":\"css\",\"right_units\":\"screen\",\"top_units\":\"screen\"},\"id\":\"1078\",\"type\":\"BoxAnnotation\"},{\"attributes\":{\"line_color\":\"midnightblue\",\"x\":{\"field\":\"x\"},\"y\":{\"field\":\"y\"}},\"id\":\"1087\",\"type\":\"Line\"},{\"attributes\":{},\"id\":\"1072\",\"type\":\"PanTool\"},{\"attributes\":{},\"id\":\"1056\",\"type\":\"DataRange1d\"},{\"attributes\":{},\"id\":\"1073\",\"type\":\"WheelZoomTool\"},{\"attributes\":{\"source\":{\"id\":\"1052\"}},\"id\":\"1090\",\"type\":\"CDSView\"},{\"attributes\":{\"text\":\"Sinusoid\"},\"id\":\"1054\",\"type\":\"Title\"},{\"attributes\":{\"overlay\":{\"id\":\"1078\"}},\"id\":\"1074\",\"type\":\"BoxZoomTool\"},{\"attributes\":{},\"id\":\"1060\",\"type\":\"LinearScale\"},{\"attributes\":{},\"id\":\"1075\",\"type\":\"SaveTool\"},{\"attributes\":{},\"id\":\"1076\",\"type\":\"ResetTool\"},{\"attributes\":{},\"id\":\"1058\",\"type\":\"DataRange1d\"},{\"attributes\":{},\"id\":\"1097\",\"type\":\"Selection\"},{\"attributes\":{},\"id\":\"1077\",\"type\":\"HelpTool\"},{\"attributes\":{},\"id\":\"1095\",\"type\":\"BasicTickFormatter\"},{\"attributes\":{\"active_drag\":\"auto\",\"active_inspect\":\"auto\",\"active_multi\":null,\"active_scroll\":\"auto\",\"active_tap\":\"auto\",\"tools\":[{\"id\":\"1072\"},{\"id\":\"1073\"},{\"id\":\"1074\"},{\"id\":\"1075\"},{\"id\":\"1076\"},{\"id\":\"1077\"}]},\"id\":\"1079\",\"type\":\"Toolbar\"},{\"attributes\":{},\"id\":\"1062\",\"type\":\"LinearScale\"},{\"attributes\":{\"data_source\":{\"id\":\"1052\"},\"glyph\":{\"id\":\"1087\"},\"hover_glyph\":null,\"muted_glyph\":null,\"nonselection_glyph\":{\"id\":\"1088\"},\"selection_glyph\":null,\"view\":{\"id\":\"1090\"}},\"id\":\"1089\",\"type\":\"GlyphRenderer\"},{\"attributes\":{\"formatter\":{\"id\":\"1093\"},\"ticker\":{\"id\":\"1065\"}},\"id\":\"1064\",\"type\":\"LinearAxis\"},{\"attributes\":{},\"id\":\"1069\",\"type\":\"BasicTicker\"},{\"attributes\":{},\"id\":\"1065\",\"type\":\"BasicTicker\"},{\"attributes\":{},\"id\":\"1098\",\"type\":\"UnionRenderers\"},{\"attributes\":{\"axis\":{\"id\":\"1064\"},\"ticker\":null},\"id\":\"1067\",\"type\":\"Grid\"},{\"attributes\":{\"axis\":{\"id\":\"1068\"},\"dimension\":1,\"ticker\":null},\"id\":\"1071\",\"type\":\"Grid\"},{\"attributes\":{\"formatter\":{\"id\":\"1095\"},\"ticker\":{\"id\":\"1069\"}},\"id\":\"1068\",\"type\":\"LinearAxis\"},{\"attributes\":{},\"id\":\"1093\",\"type\":\"BasicTickFormatter\"}],\"root_ids\":[\"1053\"]},\"title\":\"Bokeh Application\",\"version\":\"2.0.1\"}};\n",
       "  var render_items = [{\"docid\":\"902bba95-4c7c-4126-9941-e66d5cb0e22a\",\"root_ids\":[\"1053\"],\"roots\":{\"1053\":\"81aa5c3b-132b-4be3-955d-8d5f0fb3bc1a\"}}];\n",
       "  root.Bokeh.embed.embed_items_notebook(docs_json, render_items);\n",
       "\n",
       "  }\n",
       "  if (root.Bokeh !== undefined) {\n",
       "    embed_document(root);\n",
       "  } else {\n",
       "    var attempts = 0;\n",
       "    var timer = setInterval(function(root) {\n",
       "      if (root.Bokeh !== undefined) {\n",
       "        clearInterval(timer);\n",
       "        embed_document(root);\n",
       "      } else {\n",
       "        attempts++;\n",
       "        if (attempts > 100) {\n",
       "          clearInterval(timer);\n",
       "          console.log(\"Bokeh: ERROR: Unable to run BokehJS code because BokehJS library is missing\");\n",
       "        }\n",
       "      }\n",
       "    }, 10, root)\n",
       "  }\n",
       "})(window);"
      ],
      "application/vnd.bokehjs_exec.v0+json": ""
     },
     "metadata": {
      "application/vnd.bokehjs_exec.v0+json": {
       "id": "1053"
      }
     },
     "output_type": "display_data"
    }
   ],
   "source": [
    "wv = Wave(freq=np.array([1, 2, 3, 5, 7]), sec=4.0, fs=100, color='midnightblue')\n",
    "wv.plot.plot_height = 250\n",
    "show(wv.plot)"
   ]
  },
  {
   "cell_type": "code",
   "execution_count": null,
   "metadata": {},
   "outputs": [],
   "source": [
    "sp = SpectrumPlot(signal=wv.source.data['y'], fs=fs, npoints=1024, freqrng=(0,30), color='midnightblue')\n",
    "show(sp.plot)"
   ]
  },
  {
   "cell_type": "code",
   "execution_count": 265,
   "metadata": {},
   "outputs": [
    {
     "data": {
      "text/plain": [
       "NoneType"
      ]
     },
     "execution_count": 265,
     "metadata": {},
     "output_type": "execute_result"
    }
   ],
   "source": [
    "as = ifft(cmwX.*dataX,nConv);\n",
    "as = as(half_wave+1:end-half_wave);\n",
    "as = reshape(as,EEG.pnts,EEG.trials);"
   ]
  }
 ],
 "metadata": {
  "kernelspec": {
   "display_name": "Python 3",
   "language": "python",
   "name": "python3"
  },
  "language_info": {
   "codemirror_mode": {
    "name": "ipython",
    "version": 3
   },
   "file_extension": ".py",
   "mimetype": "text/x-python",
   "name": "python",
   "nbconvert_exporter": "python",
   "pygments_lexer": "ipython3",
   "version": "3.7.7"
  }
 },
 "nbformat": 4,
 "nbformat_minor": 4
}
